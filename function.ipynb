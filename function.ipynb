{
  "nbformat": 4,
  "nbformat_minor": 0,
  "metadata": {
    "colab": {
      "provenance": []
    },
    "kernelspec": {
      "name": "python3",
      "display_name": "Python 3"
    },
    "language_info": {
      "name": "python"
    }
  },
  "cells": [
    {
      "cell_type": "markdown",
      "source": [
        "\n",
        "***Theory Questions***\n",
        "\n",
        "\n",
        "***Q1. What is the difference between a function and a method in Python?***\n",
        "\n",
        "Answer:\n",
        "\n",
        "A function is an independent block of code defined using def, not tied to any object.\n",
        "\n",
        "A method is a function that belongs to an object or class and always takes the instance (self) as its first parameter.\n",
        "\n",
        "Example:\n",
        "\n",
        "def add(a, b):   # function\n",
        "    return a + b\n",
        "\n",
        "class MyClass:\n",
        "    def greet(self):   # method\n",
        "        return \"Hello\"\n",
        "---\n",
        "\n",
        "***Q2. Explain the concept of function arguments and parameters in Python.***\n",
        "\n",
        "Answer:\n",
        "\n",
        "Parameter: A variable defined in the function header.\n",
        "\n",
        "Argument: The value passed into the function while calling it.\n",
        "\n",
        "Example:\n",
        "\n",
        "def greet(name):   # 'name' is parameter\n",
        "    return f\"Hello, {name}\"\n",
        "\n",
        "print(greet(\"Anjali\"))   # \"Anjali\" is argument\n",
        "\n",
        "---\n",
        "\n",
        "***3. What are the different ways to define and call a function in Python?***\n",
        "\n",
        "Answer:\n",
        "\n",
        "Normal function (using def)\n",
        "\n",
        "Lambda function (anonymous)\n",
        "\n",
        "Recursive function (calls itself)\n",
        "\n",
        "Example:\n",
        "\n",
        "def square(x): return x*x     # normal\n",
        "print(square(5))\n",
        "\n",
        "double = lambda x: x*2        # lambda\n",
        "print(double(10))\n",
        "\n",
        "def fact(n):                  # recursion\n",
        "    if n==0: return 1\n",
        "    return n*fact(n-1)\n",
        "print(fact(5))\n",
        "\n",
        "\n",
        "---\n",
        "***Q4. What is the purpose of the return statement in a Python function?***\n",
        "\n",
        "Answer:\n",
        "The return statement sends the result of a function back to the caller. Without it, the function returns None.\n",
        "\n",
        "Example:\n",
        "\n",
        "def add(a, b):\n",
        "    return a + b\n",
        "\n",
        "print(add(2, 3))   # 5\n",
        "---\n",
        "\n",
        "***Q5. What are iterators in Python and how do they differ from iterables?***\n",
        "\n",
        "Answer:\n",
        "\n",
        "Iterable: An object that can be looped over (e.g., list, tuple).\n",
        "\n",
        "Iterator: An object created from an iterable that produces items one at a time using __next__().\n",
        "\n",
        "Example:\n",
        "\n",
        "nums = [1,2,3]        # iterable\n",
        "it = iter(nums)       # iterator\n",
        "print(next(it))       # 1\n",
        "print(next(it))       # 2\n",
        "\n",
        "---\n",
        "***Q6. Explain the concept of generators in Python and how they are defined.***\n",
        "\n",
        "Answer:\n",
        "\n",
        "A generator is a special function that produces values one at a time using the yield keyword.\n",
        "\n",
        "It is memory efficient and used for lazy evaluation.\n",
        "\n",
        "Example:\n",
        "\n",
        "def my_gen():\n",
        "    yield 1\n",
        "    yield 2\n",
        "    yield 3\n",
        "\n",
        "for val in my_gen():\n",
        "    print(val)\n",
        "\n",
        "---\n",
        "***Q7. What are the advantages of using generators over regular functions?***\n",
        "\n",
        "Answer:\n",
        "\n",
        "Memory efficient (do not store the entire sequence in memory).\n",
        "\n",
        "Can produce infinite sequences.\n",
        "\n",
        "Cleaner code with yield.\n",
        "\n",
        "\n",
        "---\n",
        "***Q8. What is a lambda function in Python and when is it typically used?***\n",
        "\n",
        "Answer:\n",
        "\n",
        "A lambda function is a small anonymous function defined using lambda.\n",
        "\n",
        "It is used for short, simple operations.\n",
        "\n",
        "Example:\n",
        "\n",
        "cube = lambda x: x**3\n",
        "print(cube(3))   # 27\n",
        "\n",
        "---\n",
        "\n",
        "***Q9. Explain the purpose and usage of the map() function in Python.***\n",
        "\n",
        "Answer:\n",
        "\n",
        "The map() function applies a given function to all items of an iterable.\n",
        "\n",
        "It returns a map object (which can be converted into list/tuple).\n",
        "\n",
        "Example:\n",
        "\n",
        "nums = [1,2,3,4]\n",
        "squares = map(lambda x: x*x, nums)\n",
        "print(list(squares))   # [1,4,9,16]\n",
        "\n",
        "\n",
        "---\n",
        "\n",
        "***Q10. What is the difference between map(), reduce(), and filter() functions in Python?***\n",
        "\n",
        "Answer:\n",
        "\n",
        "map() → Applies function to all elements.\n",
        "\n",
        "filter() → Returns only elements that satisfy a condition.\n",
        "\n",
        "reduce() → Applies a function cumulatively to reduce iterable to a single value.\n",
        "\n",
        "Example:\n",
        "\n",
        "from functools import reduce\n",
        "nums = [1,2,3,4,5]\n",
        "\n",
        "print(list(map(lambda x:x*2, nums)))       # [2,4,6,8,10]\n",
        "print(list(filter(lambda x:x%2==0, nums))) # [2,4]\n",
        "print(reduce(lambda x,y:x+y, nums))        # 15\n",
        "\n",
        "\n",
        "---\n",
        "\n",
        "\n",
        "***Q11. Using pen & paper write the internal mechanism for sum operation using reduce function on this given list: [47,11,42,13]***\n",
        "\n",
        "Answer:\n",
        "\n",
        "Using:\n",
        "\n",
        "from functools import reduce\n",
        "nums = [47,11,42,13]\n",
        "result = reduce(lambda x,y: x+y, nums)\n",
        "\n",
        "\n",
        "Step-by-step working (internal mechanism):\n",
        "\n",
        "First operation → 47 + 11 = 58\n",
        "\n",
        "Second operation → 58 + 42 = 100\n",
        "\n",
        "Third operation → 100 + 13 = 113\n",
        "\n",
        " Final Result = 113\n",
        "\n"
      ],
      "metadata": {
        "id": "p40FrDFnKgY2"
      }
    },
    {
      "cell_type": "markdown",
      "source": [
        "Practical Questions"
      ],
      "metadata": {
        "id": "a-483udZM9OO"
      }
    },
    {
      "cell_type": "code",
      "source": [
        "# Q1. Write a Python function that takes a list of numbers as input and returns the sum of all even numbers in the list.\n",
        "def sum_even_numbers(numbers):\n",
        "    return sum(num for num in numbers if num % 2 == 0)\n",
        "\n",
        "# Example\n",
        "print(sum_even_numbers([1, 2, 3, 4, 5, 6]))  # Output: 1"
      ],
      "metadata": {
        "colab": {
          "base_uri": "https://localhost:8080/"
        },
        "id": "JS6B1YPkM6DP",
        "outputId": "52f3648a-7d5b-441d-b953-4bc3d18f8720"
      },
      "execution_count": 1,
      "outputs": [
        {
          "output_type": "stream",
          "name": "stdout",
          "text": [
            "12\n"
          ]
        }
      ]
    },
    {
      "cell_type": "code",
      "source": [
        "# Q2. Create a Python function that accepts a string and returns the reverse of that string.\n",
        "def reverse_string(s):\n",
        "    return s[::-1]\n",
        "\n",
        "# Example\n",
        "print(reverse_string(\"Anjali\"))  # Output: ilajnA\n"
      ],
      "metadata": {
        "colab": {
          "base_uri": "https://localhost:8080/"
        },
        "id": "pu6yZ227M6GR",
        "outputId": "d2d9432f-9c91-4862-e185-96e46a6db809"
      },
      "execution_count": 3,
      "outputs": [
        {
          "output_type": "stream",
          "name": "stdout",
          "text": [
            "ilajnA\n"
          ]
        }
      ]
    },
    {
      "cell_type": "code",
      "source": [
        "# Q3. Implement a Python function that takes a list of integers and returns a new list containing the squares of each number.\n",
        "def squares_list(numbers):\n",
        "    return [num**2 for num in numbers]\n",
        "\n",
        "# Example\n",
        "print(squares_list([1, 2, 3, 4]))  # Output: [1, 4, 9, 16]"
      ],
      "metadata": {
        "colab": {
          "base_uri": "https://localhost:8080/"
        },
        "id": "bt5Yl9KtM6JS",
        "outputId": "153dc7bb-9e90-4a07-827c-91e99673856e"
      },
      "execution_count": 2,
      "outputs": [
        {
          "output_type": "stream",
          "name": "stdout",
          "text": [
            "[1, 4, 9, 16]\n"
          ]
        }
      ]
    },
    {
      "cell_type": "code",
      "source": [
        "# Q4. Write a Python function that checks if a given number is prime or not from 1 to 200.\n",
        "def is_prime(num):\n",
        "    if num < 2:\n",
        "        return False\n",
        "    for i in range(2, int(num**0.5) + 1):\n",
        "        if num % i == 0:\n",
        "            return False\n",
        "    return True\n",
        "\n",
        "# Print primes from 1 to 200\n",
        "primes = [n for n in range(1, 201) if is_prime(n)]\n",
        "print(primes)"
      ],
      "metadata": {
        "colab": {
          "base_uri": "https://localhost:8080/"
        },
        "id": "P70fiLBiM6MM",
        "outputId": "50eded6d-0098-4f7f-ff42-f61acabc46c2"
      },
      "execution_count": 4,
      "outputs": [
        {
          "output_type": "stream",
          "name": "stdout",
          "text": [
            "[2, 3, 5, 7, 11, 13, 17, 19, 23, 29, 31, 37, 41, 43, 47, 53, 59, 61, 67, 71, 73, 79, 83, 89, 97, 101, 103, 107, 109, 113, 127, 131, 137, 139, 149, 151, 157, 163, 167, 173, 179, 181, 191, 193, 197, 199]\n"
          ]
        }
      ]
    },
    {
      "cell_type": "code",
      "source": [
        "# Q5. Create an iterator class in Python that generates the Fibonacci sequence up to a specified number of terms.\n",
        "class Fibonacci:\n",
        "    def __init__(self, n_terms):\n",
        "        self.n_terms = n_terms\n",
        "        self.a, self.b = 0, 1\n",
        "        self.count = 0\n",
        "\n",
        "    def __iter__(self):\n",
        "        return self\n",
        "\n",
        "    def __next__(self):\n",
        "        if self.count >= self.n_terms:\n",
        "            raise StopIteration\n",
        "        self.count += 1\n",
        "        self.a, self.b = self.b, self.a + self.b\n",
        "        return self.a\n",
        "\n",
        "# Example\n",
        "for num in Fibonacci(10):\n",
        "    print(num, end=\" \")  # Output: 1 1 2 3 5 8 13 21 34 55"
      ],
      "metadata": {
        "colab": {
          "base_uri": "https://localhost:8080/"
        },
        "id": "vkZ_u9xaM6R1",
        "outputId": "3f179530-19ab-4ab2-af60-b653b6bde148"
      },
      "execution_count": 6,
      "outputs": [
        {
          "output_type": "stream",
          "name": "stdout",
          "text": [
            "1 1 2 3 5 8 13 21 34 55 "
          ]
        }
      ]
    },
    {
      "cell_type": "code",
      "source": [
        "# Q6. Write a generator function in Python that yields the powers of 2 up to a given exponent.\n",
        "\n",
        "def powers_of_two(n):\n",
        "    for i in range(n+1):\n",
        "        yield 2**i\n",
        "\n",
        "# Example\n",
        "for val in powers_of_two(5):\n",
        "    print(val, end=\" \")  # Output: 1 2 4 8 16 32\n"
      ],
      "metadata": {
        "colab": {
          "base_uri": "https://localhost:8080/"
        },
        "id": "Y4xqSxj-M6Vv",
        "outputId": "f769e072-897d-41d8-e457-93e52bf817ff"
      },
      "execution_count": 8,
      "outputs": [
        {
          "output_type": "stream",
          "name": "stdout",
          "text": [
            "1 2 4 8 16 32 "
          ]
        }
      ]
    },
    {
      "cell_type": "code",
      "source": [
        "# Q7. Implement a generator function that reads a file line by line and yields each line as a string.\n",
        "\n",
        "\n",
        "def read_file(filename):\n",
        "    try:\n",
        "        with open(filename, \"r\") as f:\n",
        "            for line in f:\n",
        "                yield line.strip()\n",
        "    except FileNotFoundError:\n",
        "        print(f\"Error: File '{filename}' not found.\")\n",
        "\n",
        "# Example\n",
        "for line in read_file(\"sample.txt\"):\n",
        "    print(line)\n"
      ],
      "metadata": {
        "colab": {
          "base_uri": "https://localhost:8080/"
        },
        "id": "sGNAWZr4QEUu",
        "outputId": "dd8d3d46-1a50-4cb1-c070-96a1ee942f1a"
      },
      "execution_count": 22,
      "outputs": [
        {
          "output_type": "stream",
          "name": "stdout",
          "text": [
            "Error: File 'sample.txt' not found.\n"
          ]
        }
      ]
    },
    {
      "cell_type": "code",
      "source": [
        "# Q8. Use a lambda function in Python to sort a list of tuples based on the second element of each tuple.\n",
        "tuples_list = [(1, 3), (2, 1), (4, 2)]\n",
        "sorted_list = sorted(tuples_list, key=lambda x: x[1])\n",
        "print(sorted_list)  # Output: [(2, 1), (4, 2), (1, 3)]"
      ],
      "metadata": {
        "colab": {
          "base_uri": "https://localhost:8080/"
        },
        "id": "aG38E-aqM6bM",
        "outputId": "df2edc1c-1518-4d16-e523-ae5d69d7d210"
      },
      "execution_count": 10,
      "outputs": [
        {
          "output_type": "stream",
          "name": "stdout",
          "text": [
            "[(2, 1), (4, 2), (1, 3)]\n"
          ]
        }
      ]
    },
    {
      "cell_type": "code",
      "source": [
        "# Q9. Write a Python program that uses map() to convert a list of temperatures from Celsius to Fahrenheit.\n",
        "\n",
        "celsius = [0, 20, 30, 40]\n",
        "fahrenheit = list(map(lambda c: (c * 9/5) + 32, celsius))\n",
        "print(fahrenheit)  # Output: [32.0, 68.0, 86.0, 104.0]\n"
      ],
      "metadata": {
        "colab": {
          "base_uri": "https://localhost:8080/"
        },
        "id": "o3OmP_I4M6dz",
        "outputId": "1e0580a4-d71d-4c0b-9c8e-a2feb7e2e048"
      },
      "execution_count": 12,
      "outputs": [
        {
          "output_type": "stream",
          "name": "stdout",
          "text": [
            "[32.0, 68.0, 86.0, 104.0]\n"
          ]
        }
      ]
    },
    {
      "cell_type": "code",
      "source": [
        "# Q10. Create a Python program that uses filter() to remove all the vowels from a given string.\n",
        "def remove_vowels(s):\n",
        "    vowels = \"aeiouAEIOU\"\n",
        "    return \"\".join(filter(lambda ch: ch not in vowels, s))\n",
        "\n",
        "# Example\n",
        "print(remove_vowels(\"Anjali Rawat\"))  # Output: njl Rwt\n"
      ],
      "metadata": {
        "colab": {
          "base_uri": "https://localhost:8080/"
        },
        "id": "I_5DfXigM6ge",
        "outputId": "24c0026f-75e6-43ac-e287-c25725e9d43e"
      },
      "execution_count": 16,
      "outputs": [
        {
          "output_type": "stream",
          "name": "stdout",
          "text": [
            "njl Rwt\n"
          ]
        }
      ]
    },
    {
      "cell_type": "code",
      "source": [
        "# Q11. Imagine an accounting routine used in a book shop. It works on a list with sublists, which look like this:\n",
        "\n",
        "# List of orders: [Order Number, Book Title and Author, Quantity, Price per Item]\n",
        "orders = [\n",
        "    [34587, \"Learning Python, Mark Lutz\", 4, 40.95],\n",
        "    [98762, \"Programming Python, Mark Lutz\", 3, 56.80],\n",
        "    [77226, \"Head First Python, Paul Barry\", 5, 32.95],\n",
        "    [88112, \"Einführung in Python3, Bernd Klein\", 3, 24.99]\n",
        "]\n",
        "\n",
        "# Function to calculate total price with €10 surcharge if <100\n",
        "calculate_total = lambda order: (\n",
        "    order[0],\n",
        "    order[2] * order[3] + 10 if order[2] * order[3] < 100 else order[2] * order[3]\n",
        ")\n",
        "\n",
        "# Apply to all orders using map\n",
        "totals = list(map(calculate_total, orders))\n",
        "\n",
        "# Print result\n",
        "print(totals)\n"
      ],
      "metadata": {
        "colab": {
          "base_uri": "https://localhost:8080/"
        },
        "id": "Yq0gVLOQM6jF",
        "outputId": "0a3387be-3b11-435d-82d9-393b945badea"
      },
      "execution_count": 15,
      "outputs": [
        {
          "output_type": "stream",
          "name": "stdout",
          "text": [
            "[(34587, 163.8), (98762, 170.39999999999998), (77226, 164.75), (88112, 84.97)]\n"
          ]
        }
      ]
    },
    {
      "cell_type": "code",
      "source": [],
      "metadata": {
        "id": "HbI7oOteM6lt"
      },
      "execution_count": null,
      "outputs": []
    },
    {
      "cell_type": "code",
      "source": [],
      "metadata": {
        "id": "7rW42NshM6oo"
      },
      "execution_count": null,
      "outputs": []
    },
    {
      "cell_type": "code",
      "source": [],
      "metadata": {
        "id": "iDQYqts7M6ro"
      },
      "execution_count": null,
      "outputs": []
    },
    {
      "cell_type": "code",
      "source": [],
      "metadata": {
        "id": "0GvNlPG4M6uk"
      },
      "execution_count": null,
      "outputs": []
    },
    {
      "cell_type": "code",
      "source": [],
      "metadata": {
        "id": "dlszSxeUM6xl"
      },
      "execution_count": null,
      "outputs": []
    },
    {
      "cell_type": "markdown",
      "source": [],
      "metadata": {
        "id": "GmT05pmQKgcy"
      }
    }
  ]
}